{
  "cells": [
    {
      "cell_type": "markdown",
      "metadata": {
        "id": "J1b2VjZJ2i09"
      },
      "source": [
        "# Learning to Reinforcement Learn with `gymnax`\n",
        "### [Last Update: December 2022][![Colab](https://colab.research.google.com/assets/colab-badge.svg)](https://colab.research.google.com/github/RobertTLange/gymnax/blob/main/examples/03_meta_a2c.ipynb)\n",
        "\n",
        "*Note*: This notebook was partially used to teach at the M2L summer school 2022 in Milano.\n",
        "\n",
        "In this final exercise we will implement a memory-based meta-reinforcement learning agent. But first what is meta-learning more generally? So far we have trained RL agents to perform a single task (CartPole, etc.) using general-purpose algorithms like temporal difference learning. The neural network executes a policy, which is tailored to the training environment. But what will happen if the environment dynamics change? The agent will most likely not be able to adapt given that the network weights are frozen.\n",
        "\n",
        "One approach to overcome this limitation is to instead train a network on a distribution of tasks and to explicitly provide the previous reward and action as an input. If the network is an RNN it will be able to adapt its behavior to the incoming information. This can ultimately lead to the discovery of learning algorithms encoded in the network dynamics of the RNN. Hence, by training with RL on many different tasks networks can **learn how to learn and adapt**. Note that there are many different meta-reinforcement learning algorithms and we will only focus on the case of memory-based meta RL simultaneously introduced by [Wang et al. (2016)](https://arxiv.org/abs/1611.05763?source=post_page---------------------------) and [Duan et al. (2016)](https://arxiv.org/abs/1611.02779).\n",
        "\n",
        "More specifically, we will consider a two arm bandit setting in which the best arm is sampled at the beginning of each episode. In order to perform in every episode the agent has to meta-learn an exploration algorithm, which integrates reward information from the different arms.\n",
        "\n",
        "Let's start by implementing this simple environment in plain JAX. JAX environments allow us to easily collect data from multiple actors in parallel: We can simply `vmap` over different random number keys. This is especially powerful for distributed actor-critic agents, which rely on efficient on-policy data throughput."
      ]
    },
    {
      "cell_type": "markdown",
      "metadata": {
        "id": "8iLoPxPRnxqy"
      },
      "source": [
        "# Installations"
      ]
    },
    {
      "cell_type": "code",
      "execution_count": 1,
      "metadata": {
        "executionInfo": {
          "elapsed": 85,
          "status": "ok",
          "timestamp": 1660492684926,
          "user": {
            "displayName": "Robert Lange",
            "userId": "17173340079122882032"
          },
          "user_tz": -60
        },
        "id": "5NhpFfT5ntO4"
      },
      "outputs": [],
      "source": [
        "!pip install --quiet dm-haiku optax distrax chex gymnax\n",
        "\n",
        "from IPython.display import clear_output\n",
        "clear_output()"
      ]
    },
    {
      "cell_type": "code",
      "execution_count": 2,
      "metadata": {
        "executionInfo": {
          "elapsed": 9701,
          "status": "ok",
          "timestamp": 1660492694721,
          "user": {
            "displayName": "Robert Lange",
            "userId": "17173340079122882032"
          },
          "user_tz": -60
        },
        "id": "A_dvUXyXKsu1"
      },
      "outputs": [],
      "source": [
        "from typing import TYPE_CHECKING, NamedTuple, Tuple, Optional\n",
        "\n",
        "import chex\n",
        "import distrax\n",
        "import haiku as hk\n",
        "import jax\n",
        "import jax.numpy as jnp\n",
        "import matplotlib.pyplot as plt\n",
        "import optax\n",
        "import gymnax"
      ]
    },
    {
      "cell_type": "markdown",
      "metadata": {
        "id": "Bssr_gDAGO2M"
      },
      "source": [
        "# Define the Bandit Environment"
      ]
    },
    {
      "cell_type": "code",
      "execution_count": 3,
      "metadata": {
        "executionInfo": {
          "elapsed": 104,
          "status": "ok",
          "timestamp": 1660492694917,
          "user": {
            "displayName": "Robert Lange",
            "userId": "17173340079122882032"
          },
          "user_tz": -60
        },
        "id": "KNCuLFTfPfiu"
      },
      "outputs": [],
      "source": [
        "env = gymnax.make('BernoulliBandit-misc')\n",
        "env_params = env.default_params"
      ]
    },
    {
      "cell_type": "markdown",
      "metadata": {
        "id": "fD9PnHKGGT5l"
      },
      "source": [
        "Note that the bandit observation includes the reward $r_{t}$, one-hot encoded action $a_{t}$ as well as a normalized timestep counter $t$. This is ultimately all the information needed for an RNN-based agent to learn which arm is better in a given episode. The parameter `reward_prob` sets the task difficulty. Intuitively, small values will lead to arms with very different expected pull value. Arms which are closer together will be harder to tell apart.\n",
        "\n",
        "# Define the Meta-Reinforcement Learner LSTM\n",
        "\n",
        "Next, we will setup a sample actor-critic network with an LSTM module. It is a fairly small model which process the observation inputs and has two output heads: One output policy logits for $\\pi(a | h_t)$ and the other outputs a value estimate $v(h_t)$, where $h_t$ denotes the hidden state of the LSTM."
      ]
    },
    {
      "cell_type": "code",
      "execution_count": 4,
      "metadata": {
        "executionInfo": {
          "elapsed": 53,
          "status": "ok",
          "timestamp": 1660492695058,
          "user": {
            "displayName": "Robert Lange",
            "userId": "17173340079122882032"
          },
          "user_tz": -60
        },
        "id": "aI-9ycC4Rl3u"
      },
      "outputs": [],
      "source": [
        "class LSTMMetaRL(hk.RNNCore):\n",
        "  \"\"\"Simple LSTM Wrapper with flexible output head.\"\"\"\n",
        "\n",
        "  def __init__(\n",
        "      self,\n",
        "      num_hidden_units: int = 32,\n",
        "      num_output_units: int = 2) -> None:\n",
        "    super().__init__(name=\"LSTMMetaRL\")\n",
        "    self.num_hidden_units = num_hidden_units\n",
        "    self.num_output_units = num_output_units\n",
        "\n",
        "    self._lstm_core = hk.LSTM(self.num_hidden_units)\n",
        "    self._policy_head = hk.Linear(self.num_output_units)\n",
        "    self._value_head = hk.Linear(1)\n",
        "\n",
        "  def initial_state(self, batch_size: int) -> hk.LSTMState:\n",
        "    return self._lstm_core.initial_state(batch_size)\n",
        "\n",
        "  def __call__(\n",
        "      self,\n",
        "      x: chex.Array,\n",
        "      state: hk.LSTMState) -> Tuple[hk.LSTMState, chex.Array, chex.Array]:\n",
        "    output, next_state = self._lstm_core(x, state)\n",
        "    policy_logits = self._policy_head(output)\n",
        "    value = self._value_head(output)\n",
        "\n",
        "    return next_state, policy_logits, value"
      ]
    },
    {
      "cell_type": "markdown",
      "metadata": {
        "id": "lnjb5w3n-2vN"
      },
      "source": [
        "Instantiate the environment, reset an episode and perform a step. "
      ]
    },
    {
      "cell_type": "code",
      "execution_count": 5,
      "metadata": {
        "executionInfo": {
          "elapsed": 3730,
          "status": "ok",
          "timestamp": 1660492698883,
          "user": {
            "displayName": "Robert Lange",
            "userId": "17173340079122882032"
          },
          "user_tz": -60
        },
        "id": "Gtq2FByMRFf-",
        "outputId": "63fb95ce-7df8-4820-95eb-a2dd502eb165"
      },
      "outputs": [
        {
          "data": {
            "text/plain": [
              "(DeviceArray([ 1.  ,  0.  ,  1.  , -0.98], dtype=float32),\n",
              " EnvState(last_action=1, last_reward=DeviceArray(1, dtype=int32), exp_reward_best=DeviceArray(0.9, dtype=float32), reward_probs=DeviceArray([0.1, 0.9], dtype=float32), time=1.0),\n",
              " DeviceArray(1, dtype=int32),\n",
              " False,\n",
              " {'regret': DeviceArray(0., dtype=float32)})"
            ]
          },
          "execution_count": 5,
          "metadata": {},
          "output_type": "execute_result"
        }
      ],
      "source": [
        "rng = jax.random.PRNGKey(0)\n",
        "obs, state = env.reset(rng, env_params)\n",
        "action = 1\n",
        "env.step(rng, state, action, env_params)"
      ]
    },
    {
      "cell_type": "markdown",
      "metadata": {
        "id": "kTqDMYYWOUXA"
      },
      "source": [
        "# Define A2C Components\n",
        "\n",
        "In the following the network will be trained using A2C [(Mnih et al., 2016)](http://proceedings.mlr.press/v48/mniha16.pdf). A2C collects data of different workers synchronously (e.g. using a vmapped rollout function) and computes the following objective function:\n",
        "\n",
        "$$\\mathcal{L} = \\mathbb{E}_\\pi [\\log \\pi(a | h_t) [R_t - V(h_t)]^\\dagger] + \\beta_v \\mathbb{E}_\\pi [(R_t^\\dagger - V(h_t))^2] + \\beta_e \\mathbb{E}_\\pi [\\mathcal{H}(\\pi(a | h_t))],$$\n",
        "\n",
        "where $\\dagger$ denotes stop gradient operation and $R_t = \\sum_{i=0}^{T-t-1} \\gamma^i r_{t+i}$ is the return to go. It consists of three components:\n",
        "\n",
        "1. **REINFORCE objective**: $\\mathbb{E}_\\pi [\\log \\pi(a | h_t) [R_t - V(h_t)]^\\dagger]$. Intuitively, this objective tries to increase the probability of actions that lead to a higher than expected return outcome.\n",
        "2. **Value estimation**: $\\mathbb{E}_\\pi [(R_t^\\dagger - V(h_t))^2]$. This term tries to improve the capability of the critic to predict the return of following the agents policy.\n",
        "3. **Entropy regularizer**: $\\mathbb{E}_\\pi [\\mathcal{H}(\\pi(a | h_t))]$. The entropy measures the randomness of the policy and can be used to regularize the policy to be more or less exploratory. This plays a key role in discovering learning algorithms or the meta-exploration problem.\n",
        "\n",
        "Let us now implement a function to rollout the agent and collect the required statistics for computing the objective. We will use `hk.scan` (which is `haiku`'s equivalent of `jax.lax.scan`) in order to ensure that we can jit compile through the episode rollout in a fast manner."
      ]
    },
    {
      "cell_type": "code",
      "execution_count": 6,
      "metadata": {
        "executionInfo": {
          "elapsed": 52,
          "status": "ok",
          "timestamp": 1660492699027,
          "user": {
            "displayName": "Robert Lange",
            "userId": "17173340079122882032"
          },
          "user_tz": -60
        },
        "id": "2QXT8mIWRjOn"
      },
      "outputs": [],
      "source": [
        "def compute_returns(rewards, gamma=1.):\n",
        "  \"\"\"Compute list of returns up to T.\"\"\"\n",
        "  R = 0\n",
        "  returns = jnp.zeros(rewards.shape[0])\n",
        "  counter = rewards.shape[0] - 1\n",
        "  for step in reversed(range(len(rewards))):\n",
        "    R = rewards[step] + gamma * R\n",
        "    returns = returns.at[counter].set(R)\n",
        "    counter -= 1\n",
        "  return returns\n",
        "\n",
        "\n",
        "def rollout(rng_input, gamma, env_params, steps_in_episode):\n",
        "  \"\"\"Rollout a jitted gymnax episode with lax.scan.\"\"\"\n",
        "  # Reset the environment\n",
        "  rng_reset, rng_episode = jax.random.split(rng_input)\n",
        "  obs, env_state = env.reset(rng_reset, env_params)\n",
        "\n",
        "  lstm = LSTMMetaRL(48, 2)\n",
        "  net_state = lstm.initial_state(None)\n",
        "\n",
        "  def policy_step(state_input, tmp):\n",
        "      \"\"\"lax.scan compatible step transition in jax env.\"\"\"\n",
        "      obs, env_state, net_state, rng = state_input\n",
        "      rng, rng_step, rng_act = jax.random.split(rng, 3)\n",
        "      net_state, logits, value = lstm(obs, net_state)\n",
        "      policy = distrax.Categorical(logits=logits)\n",
        "      entropy = policy.entropy()\n",
        "      action, log_prob = policy.sample_and_log_prob(seed=rng_act, sample_shape=())\n",
        "      next_obs, next_env_state, reward, done, info = env.step(\n",
        "          rng_step, env_state, action, env_params\n",
        "      )\n",
        "      carry = [next_obs, next_env_state, net_state, rng]\n",
        "      return carry, [log_prob, value, entropy, reward, info[\"regret\"]]\n",
        "\n",
        "  # Scan over episode step loop\n",
        "  _, scan_out = hk.scan(\n",
        "      policy_step,\n",
        "      [obs, env_state, net_state, rng_episode],\n",
        "      (),\n",
        "      steps_in_episode\n",
        "  )\n",
        "  # Unpack episode statistics\n",
        "  log_probs, values, entropies, rewards, regrets = scan_out\n",
        "  returns = compute_returns(rewards, gamma)\n",
        "  advantages = returns - values\n",
        "  return log_probs, advantages, entropies, jnp.sum(rewards), jnp.sum(regrets)\n",
        "\n",
        "\n",
        "# Batch rollout helper - vmap over rngs\n",
        "rollout_fn = hk.without_apply_rng(hk.transform(rollout))\n",
        "batch_rollout_fn = jax.vmap(rollout_fn.apply, in_axes=(None, 0, None, None, None))"
      ]
    },
    {
      "cell_type": "code",
      "execution_count": 7,
      "metadata": {
        "executionInfo": {
          "elapsed": 6023,
          "status": "ok",
          "timestamp": 1660492705160,
          "user": {
            "displayName": "Robert Lange",
            "userId": "17173340079122882032"
          },
          "user_tz": -60
        },
        "id": "jCjoHtiSGRjH"
      },
      "outputs": [],
      "source": [
        "# Rollout an episode and return collected stats\n",
        "env = BernoulliBandit()\n",
        "env_params = env.default_params\n",
        "\n",
        "rng = jax.random.PRNGKey(0)\n",
        "net_params = rollout_fn.init(jax.random.PRNGKey(0), rng, 0.8, env_params, 100)\n",
        "log_probs, advantages, entropies, reward, regrets = rollout_fn.apply(net_params, rng, 0.8, env_params, 100)"
      ]
    },
    {
      "cell_type": "markdown",
      "metadata": {
        "id": "3J-RHPl0GSRL"
      },
      "source": [
        "Next up implement the A2C objective function:"
      ]
    },
    {
      "cell_type": "code",
      "execution_count": 8,
      "metadata": {
        "executionInfo": {
          "elapsed": 53,
          "status": "ok",
          "timestamp": 1660492705308,
          "user": {
            "displayName": "Robert Lange",
            "userId": "17173340079122882032"
          },
          "user_tz": -60
        },
        "id": "WDHOX6L4A585"
      },
      "outputs": [],
      "source": [
        "def a2c_loss(log_probs, advantages, entropies, entropy_coeff, value_coeff):\n",
        "  \"\"\"Compute the actor-critic REINFORCE loss with entropy regularization.\"\"\"\n",
        "  # ============ YOUR CODE HERE =============\n",
        "  actor_loss = -(log_probs * jax.lax.stop_gradient(advantages)).mean()\n",
        "  critic_loss = (advantages**2).mean()\n",
        "  entropy_loss = entropies.mean()\n",
        "  ac_loss = actor_loss + value_coeff*critic_loss - entropy_coeff*entropy_loss\n",
        "  return ac_loss\n",
        "\n",
        "\n",
        "@jax.jit\n",
        "def batch_a2c_loss(net_params, rng_batch, gamma, entropy_coeff, value_coeff, env_params):\n",
        "  \"\"\"Batch forward pass for multiple actors & compute average A2C loss.\"\"\"\n",
        "  batch_loss_fn = jax.vmap(a2c_loss, in_axes=(0, 0, 0, None, None))\n",
        "  steps_in_episode = 100\n",
        "  log_probs, advantages, entropies, rewards, regrets = batch_rollout_fn(net_params, rng_batch, gamma, env_params, steps_in_episode)\n",
        "  batch_loss = batch_loss_fn(log_probs, advantages, entropies, entropy_coeff, value_coeff)\n",
        "  return batch_loss.mean(), [jnp.mean(rewards), jnp.mean(regrets)]"
      ]
    },
    {
      "cell_type": "code",
      "execution_count": 9,
      "metadata": {
        "executionInfo": {
          "elapsed": 352,
          "status": "ok",
          "timestamp": 1660492705746,
          "user": {
            "displayName": "Robert Lange",
            "userId": "17173340079122882032"
          },
          "user_tz": -60
        },
        "id": "rZvBYi-BZdLH",
        "outputId": "d5002f45-f367-4ed5-b13e-4b4be141a847"
      },
      "outputs": [
        {
          "data": {
            "text/plain": [
              "DeviceArray(5.632409, dtype=float32)"
            ]
          },
          "execution_count": 9,
          "metadata": {},
          "output_type": "execute_result"
        }
      ],
      "source": [
        "# Compute A2C loss for single episode/actor - for beta_v and beta_e\n",
        "a2c_loss(log_probs, advantages, entropies, 0.1, 0.5)"
      ]
    },
    {
      "cell_type": "code",
      "execution_count": 10,
      "metadata": {
        "executionInfo": {
          "elapsed": 3405,
          "status": "ok",
          "timestamp": 1660492709238,
          "user": {
            "displayName": "Robert Lange",
            "userId": "17173340079122882032"
          },
          "user_tz": -60
        },
        "id": "oIbjj1TMSdp0",
        "outputId": "62dca86e-f741-496a-99bf-c9f05a53f7b9"
      },
      "outputs": [
        {
          "data": {
            "text/plain": [
              "(DeviceArray(4.9391594, dtype=float32),\n",
              " [DeviceArray(51., dtype=float32), DeviceArray(39.2, dtype=float32)])"
            ]
          },
          "execution_count": 10,
          "metadata": {},
          "output_type": "execute_result"
        }
      ],
      "source": [
        "# Compute batch A2C loss for five parallel actors\n",
        "rng_batch = jax.random.split(rng, 5)\n",
        "batch_a2c_loss(net_params, rng_batch, 0.8, 0.1, 0.5, env_params)"
      ]
    },
    {
      "cell_type": "markdown",
      "metadata": {
        "id": "XDFArOxLTfUq"
      },
      "source": [
        "# Run A2C Loop\n",
        "\n",
        "We are now ready to put everything together into a training loop. Our goal is to reproduce figure 2 f) of the [Wang et al. (2016)](https://arxiv.org/abs/1611.05763?source=post_page---------------------------) paper, which demonstrates the generalization capabilities of the meta-learned bandit RL algorithm to different bandit settings:"
      ]
    },
    {
      "cell_type": "code",
      "execution_count": 11,
      "metadata": {
        "executionInfo": {
          "elapsed": 51,
          "status": "ok",
          "timestamp": 1660492709378,
          "user": {
            "displayName": "Robert Lange",
            "userId": "17173340079122882032"
          },
          "user_tz": -60
        },
        "id": "XNPO6mpVZh02"
      },
      "outputs": [],
      "source": [
        "def run_a2c_training(rng, env_params, verbose):\n",
        "  num_updates = 4000\n",
        "  num_workers = 64\n",
        "  lr = 0.005\n",
        "  beta_ent = 1.\n",
        "  beta_ent_decay = 0.999\n",
        "  beta_value = 0.5\n",
        "  gamma = 0.8\n",
        "  num_ep_steps = 100\n",
        "  track_loss, track_rewards, track_regrets = [], [], []\n",
        "\n",
        "  net_params = rollout_fn.init(rng, rng, gamma, env_params, 100)\n",
        "  optimizer = optax.chain(\n",
        "        optax.clip_by_global_norm(5.0),\n",
        "        optax.scale_by_adam(eps=1e-4),\n",
        "        optax.scale(-0.005),\n",
        "    )\n",
        "  opt_state = optimizer.init(net_params)\n",
        "\n",
        "  for up in range(num_updates):\n",
        "    # Split random number keys for episode rollout\n",
        "    rng, rng_b = jax.random.split(rng)\n",
        "    rng_batch = jax.random.split(rng_b, num_workers)\n",
        "\n",
        "    # ============ YOUR CODE HERE =============\n",
        "    # Rollout batch episodes for workers via vmap & perform gradient update\n",
        "    out, grads = jax.value_and_grad(batch_a2c_loss, has_aux=True)(net_params, rng_batch, gamma, beta_ent, beta_value, env_params)\n",
        "    updates, opt_state = optimizer.update(grads, opt_state)\n",
        "    net_params = optax.apply_updates(net_params, updates)\n",
        "    \n",
        "    # Decay the exploration loss coefficient - meta-exploration\n",
        "    beta_ent = jnp.clip(beta_ent * beta_ent_decay, 0.01, 1.0)\n",
        "\n",
        "    # Track loss and print performance\n",
        "    track_loss.append(out[0])\n",
        "    track_rewards.append(out[1][0])\n",
        "    track_regrets.append(out[1][1])\n",
        "    if verbose and up % 200 == 0:\n",
        "      print(f\"# Updates: {up} | Loss: {out[0]} | Return {out[1][0]}  | Regret: {out[1][1]} | b_e: {beta_ent}\")\n",
        "  return net_params, track_loss, track_rewards, track_regrets"
      ]
    },
    {
      "cell_type": "code",
      "execution_count": 12,
      "metadata": {
        "executionInfo": {
          "elapsed": 404499,
          "status": "ok",
          "timestamp": 1660493113989,
          "user": {
            "displayName": "Robert Lange",
            "userId": "17173340079122882032"
          },
          "user_tz": -60
        },
        "id": "9TgrHgjHfPaR",
        "outputId": "63baedbb-5290-4887-809f-4e26da84d35b"
      },
      "outputs": [
        {
          "name": "stdout",
          "output_type": "stream",
          "text": [
            "# Updates: 0 | Loss: 4.175103664398193 | Return 49.875  | Regret: 40.02499771118164 | b_e: 0.9990000128746033\n",
            "# Updates: 200 | Loss: -0.1845569610595703 | Return 65.359375  | Regret: 24.46249771118164 | b_e: 0.8178321719169617\n",
            "# Updates: 400 | Loss: -0.10990064591169357 | Return 70.546875  | Regret: 19.325000762939453 | b_e: 0.6695191860198975\n",
            "# Updates: 600 | Loss: -0.0999000146985054 | Return 71.4375  | Regret: 18.625 | b_e: 0.5481024384498596\n",
            "# Updates: 800 | Loss: -0.015548501163721085 | Return 76.53125  | Regret: 13.837498664855957 | b_e: 0.4487048387527466\n",
            "# Updates: 1000 | Loss: 0.040223054587841034 | Return 80.140625  | Regret: 9.749999046325684 | b_e: 0.3673325479030609\n",
            "# Updates: 1200 | Loss: 0.09893104434013367 | Return 83.03125  | Regret: 7.199999809265137 | b_e: 0.3007172644138336\n",
            "# Updates: 1400 | Loss: 0.1617896407842636 | Return 84.84375  | Regret: 4.474999904632568 | b_e: 0.2461823672056198\n",
            "# Updates: 1600 | Loss: 0.19916124641895294 | Return 86.6875  | Regret: 3.0 | b_e: 0.20153741538524628\n",
            "# Updates: 1800 | Loss: 0.24016234278678894 | Return 88.734375  | Regret: 1.6875 | b_e: 0.16498881578445435\n",
            "# Updates: 2000 | Loss: 0.24250157177448273 | Return 89.421875  | Regret: 1.2625000476837158 | b_e: 0.13506826758384705\n",
            "# Updates: 2200 | Loss: 0.27599838376045227 | Return 88.578125  | Regret: 0.9874999523162842 | b_e: 0.11057380586862564\n",
            "# Updates: 2400 | Loss: 0.2609182298183441 | Return 89.234375  | Regret: 0.8249999284744263 | b_e: 0.09052134305238724\n",
            "# Updates: 2600 | Loss: 0.26438429951667786 | Return 88.484375  | Regret: 0.8999999761581421 | b_e: 0.074105404317379\n",
            "# Updates: 2800 | Loss: 0.2833080291748047 | Return 89.3125  | Regret: 0.6374999284744263 | b_e: 0.060666490346193314\n",
            "# Updates: 3000 | Loss: 0.29172730445861816 | Return 88.8125  | Regret: 0.6874999403953552 | b_e: 0.0496646910905838\n",
            "# Updates: 3200 | Loss: 0.28429871797561646 | Return 89.15625  | Regret: 0.5624999403953552 | b_e: 0.040658049285411835\n",
            "# Updates: 3400 | Loss: 0.2838882803916931 | Return 89.40625  | Regret: 0.5 | b_e: 0.0332847461104393\n",
            "# Updates: 3600 | Loss: 0.2838461995124817 | Return 89.34375  | Regret: 0.5874999761581421 | b_e: 0.027248600497841835\n",
            "# Updates: 3800 | Loss: 0.28280776739120483 | Return 89.1875  | Regret: 0.5374999642372131 | b_e: 0.02230709046125412\n"
          ]
        }
      ],
      "source": [
        "net_params_10, loss_10, rewards_10, regrets_10 = run_a2c_training(rng, env_params, verbose=True)"
      ]
    },
    {
      "cell_type": "code",
      "execution_count": 13,
      "metadata": {
        "colab": {
          "height": 299
        },
        "executionInfo": {
          "elapsed": 944,
          "status": "ok",
          "timestamp": 1660493115029,
          "user": {
            "displayName": "Robert Lange",
            "userId": "17173340079122882032"
          },
          "user_tz": -60
        },
        "id": "btTujaZTMg5A",
        "outputId": "2d793bbb-0899-40cf-e030-c2298ca33db7"
      },
      "outputs": [
        {
          "data": {
            "image/png": "[encoded data removed]",
            "text/plain": [
              "<Figure size 1200x400 with 3 Axes>"
            ]
          },
          "metadata": {},
          "output_type": "display_data"
        }
      ],
      "source": [
        "import matplotlib.pyplot as plt\n",
        "\n",
        "fig, axs = plt.subplots(1, 3, figsize=(12, 4))\n",
        "axs[0].plot(loss_10)\n",
        "axs[0].set_title(\"A2C Loss\")\n",
        "axs[1].plot(rewards_10)\n",
        "axs[1].set_title(\"Episode Reward\")\n",
        "axs[2].plot(regrets_10)\n",
        "axs[2].set_title(\"Episode Regret\")\n",
        "\n",
        "for i in range(3):\n",
        "  axs[i].set_xlabel(\"Updates\")\n",
        "fig.tight_layout()"
      ]
    },
    {
      "cell_type": "markdown",
      "metadata": {
        "id": "n2HEY0RypDo7"
      },
      "source": [
        "# Evaluate Generalization\n",
        "\n",
        "Next, we can take the network checkpoint trained on the easy bandit task (0.1 `reward_prob`) and test how it performs on harder tasks:"
      ]
    },
    {
      "cell_type": "code",
      "execution_count": 14,
      "metadata": {
        "executionInfo": {
          "elapsed": 5884,
          "status": "ok",
          "timestamp": 1660493121061,
          "user": {
            "displayName": "Robert Lange",
            "userId": "17173340079122882032"
          },
          "user_tz": -60
        },
        "id": "Edv3P0sfjORP",
        "outputId": "915c728e-1bf4-4876-ce7c-9dd91df535c8"
      },
      "outputs": [
        {
          "data": {
            "text/plain": [
              "(DeviceArray(0.6875, dtype=float32),\n",
              " DeviceArray(1.140625, dtype=float32),\n",
              " DeviceArray(3.5968752, dtype=float32))"
            ]
          },
          "execution_count": 14,
          "metadata": {},
          "output_type": "execute_result"
        }
      ],
      "source": [
        "env_params_10 = EnvParams(reward_prob=0.1)\n",
        "env_params_25 = EnvParams(reward_prob=0.25)\n",
        "env_params_40 = EnvParams(reward_prob=0.4)\n",
        "\n",
        "rng_batch = jax.random.split(rng, 64)\n",
        "_, _, _, _, regret_10_10 = batch_rollout_fn(net_params_10, rng_batch, 0.8, env_params_10, 100)\n",
        "_, _, _, _, regret_10_25 = batch_rollout_fn(net_params_10, rng_batch, 0.8, env_params_25, 100)\n",
        "_, _, _, _, regret_10_40 = batch_rollout_fn(net_params_10, rng_batch, 0.8, env_params_40, 100)\n",
        "\n",
        "regret_10_10.mean(), regret_10_25.mean(), regret_10_40.mean()"
      ]
    },
    {
      "cell_type": "markdown",
      "metadata": {
        "id": "BI2AatHTEcgm"
      },
      "source": [
        "Even though the meta-learner was not trained on hard bandit tasks, its meta-learning exploration algorithm is capable of generalizing to the unseen setting. Let's now train agents on harder bandit tasks:"
      ]
    },
    {
      "cell_type": "code",
      "execution_count": 15,
      "metadata": {
        "executionInfo": {
          "elapsed": 171802,
          "status": "ok",
          "timestamp": 1660493292968,
          "user": {
            "displayName": "Robert Lange",
            "userId": "17173340079122882032"
          },
          "user_tz": -60
        },
        "id": "HW9aiATzdct_",
        "outputId": "fd603aae-5ee1-40ad-81e6-50e535a98d20"
      },
      "outputs": [
        {
          "name": "stdout",
          "output_type": "stream",
          "text": [
            "# Updates: 0 | Loss: 4.183656215667725 | Return 49.75  | Regret: 25.0390625 | b_e: 0.9990000128746033\n",
            "# Updates: 200 | Loss: -0.1636858582496643 | Return 50.265625  | Regret: 25.125 | b_e: 0.8178321719169617\n",
            "# Updates: 400 | Loss: -0.07612765580415726 | Return 57.40625  | Regret: 17.421875 | b_e: 0.6695191860198975\n",
            "# Updates: 600 | Loss: -0.0006994768045842648 | Return 60.234375  | Regret: 15.28125 | b_e: 0.5481024384498596\n",
            "# Updates: 800 | Loss: 0.05531803518533707 | Return 61.46875  | Regret: 14.234375 | b_e: 0.4487048387527466\n",
            "# Updates: 1000 | Loss: 0.07975044846534729 | Return 63.0625  | Regret: 11.875 | b_e: 0.3673325479030609\n",
            "# Updates: 1200 | Loss: 0.13205844163894653 | Return 65.234375  | Regret: 10.2734375 | b_e: 0.3007172644138336\n",
            "# Updates: 1400 | Loss: 0.2039772868156433 | Return 67.859375  | Regret: 7.0703125 | b_e: 0.2461823672056198\n",
            "# Updates: 1600 | Loss: 0.21568433940410614 | Return 69.75  | Regret: 5.453125 | b_e: 0.20153741538524628\n",
            "# Updates: 1800 | Loss: 0.2601448595523834 | Return 71.125  | Regret: 3.5625 | b_e: 0.16498881578445435\n",
            "# Updates: 2000 | Loss: 0.28076231479644775 | Return 73.171875  | Regret: 2.875 | b_e: 0.13506826758384705\n",
            "# Updates: 2200 | Loss: 0.3188568353652954 | Return 73.375  | Regret: 1.8359375 | b_e: 0.11057380586862564\n",
            "# Updates: 2400 | Loss: 0.33819934725761414 | Return 73.234375  | Regret: 1.453125 | b_e: 0.09052134305238724\n",
            "# Updates: 2600 | Loss: 0.36133426427841187 | Return 73.046875  | Regret: 1.40625 | b_e: 0.074105404317379\n",
            "# Updates: 2800 | Loss: 0.3518439829349518 | Return 73.90625  | Regret: 1.3125 | b_e: 0.060666490346193314\n",
            "# Updates: 3000 | Loss: 0.364878386259079 | Return 73.96875  | Regret: 1.109375 | b_e: 0.0496646910905838\n",
            "# Updates: 3200 | Loss: 0.3652738928794861 | Return 73.875  | Regret: 1.03125 | b_e: 0.040658049285411835\n",
            "# Updates: 3400 | Loss: 0.352735698223114 | Return 74.625  | Regret: 1.0390625 | b_e: 0.0332847461104393\n",
            "# Updates: 3600 | Loss: 0.35522526502609253 | Return 73.75  | Regret: 0.7578125 | b_e: 0.027248600497841835\n",
            "# Updates: 3800 | Loss: 0.36759716272354126 | Return 73.96875  | Regret: 1.078125 | b_e: 0.02230709046125412\n"
          ]
        },
        {
          "data": {
            "text/plain": [
              "(DeviceArray(0.9624999, dtype=float32),\n",
              " DeviceArray(1.2421875, dtype=float32),\n",
              " DeviceArray(2.3500004, dtype=float32))"
            ]
          },
          "execution_count": 15,
          "metadata": {},
          "output_type": "execute_result"
        }
      ],
      "source": [
        "net_params_25, loss_25, rewards_25, regrets_25 = run_a2c_training(rng, env_params_25, verbose=True)\n",
        "\n",
        "_, _, _, _, regret_25_10 = batch_rollout_fn(net_params_25, rng_batch, 0.9, env_params_10, 100)\n",
        "_, _, _, _, regret_25_25 = batch_rollout_fn(net_params_25, rng_batch, 0.9, env_params_25, 100)\n",
        "_, _, _, _, regret_25_40 = batch_rollout_fn(net_params_25, rng_batch, 0.9, env_params_40, 100)\n",
        "\n",
        "regret_25_10.mean(), regret_25_25.mean(), regret_25_40.mean()"
      ]
    },
    {
      "cell_type": "code",
      "execution_count": 16,
      "metadata": {
        "executionInfo": {
          "elapsed": 173375,
          "status": "ok",
          "timestamp": 1660493466445,
          "user": {
            "displayName": "Robert Lange",
            "userId": "17173340079122882032"
          },
          "user_tz": -60
        },
        "id": "mjpnjTqV6Tz1",
        "outputId": "10117bcd-e8ca-47ff-e03a-6886db2d72f5"
      },
      "outputs": [
        {
          "name": "stdout",
          "output_type": "stream",
          "text": [
            "# Updates: 0 | Loss: 4.186663627624512 | Return 49.8125  | Regret: 10.009376525878906 | b_e: 0.9990000128746033\n",
            "# Updates: 200 | Loss: -0.15455523133277893 | Return 50.984375  | Regret: 10.05312728881836 | b_e: 0.8178321719169617\n",
            "# Updates: 400 | Loss: -0.03203165903687477 | Return 50.015625  | Regret: 10.00625228881836 | b_e: 0.6695191860198975\n",
            "# Updates: 600 | Loss: 0.10917842388153076 | Return 50.359375  | Regret: 9.850001335144043 | b_e: 0.5481024384498596\n",
            "# Updates: 800 | Loss: 0.0710330531001091 | Return 49.875  | Regret: 10.212502479553223 | b_e: 0.4487048387527466\n",
            "# Updates: 1000 | Loss: 0.12697479128837585 | Return 48.84375  | Regret: 10.212501525878906 | b_e: 0.3673325479030609\n",
            "# Updates: 1200 | Loss: 0.19187688827514648 | Return 50.734375  | Regret: 9.987502098083496 | b_e: 0.3007172644138336\n",
            "# Updates: 1400 | Loss: 0.2452111542224884 | Return 52.359375  | Regret: 8.06875228881836 | b_e: 0.2461823672056198\n",
            "# Updates: 1600 | Loss: 0.23364955186843872 | Return 53.453125  | Regret: 7.478126049041748 | b_e: 0.20153741538524628\n",
            "# Updates: 1800 | Loss: 0.25738757848739624 | Return 53.421875  | Regret: 6.484375953674316 | b_e: 0.16498881578445435\n",
            "# Updates: 2000 | Loss: 0.27192187309265137 | Return 54.890625  | Regret: 6.028126239776611 | b_e: 0.13506826758384705\n",
            "# Updates: 2200 | Loss: 0.33167412877082825 | Return 54.15625  | Regret: 5.85312557220459 | b_e: 0.11057380586862564\n",
            "# Updates: 2400 | Loss: 0.3137226104736328 | Return 54.25  | Regret: 5.075000762939453 | b_e: 0.09052134305238724\n",
            "# Updates: 2600 | Loss: 0.3329048752784729 | Return 55.453125  | Regret: 4.084375381469727 | b_e: 0.074105404317379\n",
            "# Updates: 2800 | Loss: 0.345061719417572 | Return 56.21875  | Regret: 4.443750858306885 | b_e: 0.060666490346193314\n",
            "# Updates: 3000 | Loss: 0.3961333632469177 | Return 56.09375  | Regret: 3.44687557220459 | b_e: 0.0496646910905838\n",
            "# Updates: 3200 | Loss: 0.3690904676914215 | Return 56.90625  | Regret: 3.325000762939453 | b_e: 0.040658049285411835\n",
            "# Updates: 3400 | Loss: 0.3843540847301483 | Return 57.71875  | Regret: 3.0656256675720215 | b_e: 0.0332847461104393\n",
            "# Updates: 3600 | Loss: 0.3750694692134857 | Return 57.0625  | Regret: 2.2562503814697266 | b_e: 0.027248600497841835\n",
            "# Updates: 3800 | Loss: 0.39970308542251587 | Return 57.546875  | Regret: 2.609375476837158 | b_e: 0.02230709046125412\n"
          ]
        },
        {
          "data": {
            "text/plain": [
              "(DeviceArray(1.1499999, dtype=float32),\n",
              " DeviceArray(1.28125, dtype=float32),\n",
              " DeviceArray(2.0656252, dtype=float32))"
            ]
          },
          "execution_count": 16,
          "metadata": {},
          "output_type": "execute_result"
        }
      ],
      "source": [
        "net_params_40, loss_40, rewards_40, regrets_40 = run_a2c_training(rng, env_params_40, verbose=True)\n",
        "\n",
        "_, _, _, _, regret_40_10 = batch_rollout_fn(net_params_40, rng_batch, 0.95, env_params_10, 100)\n",
        "_, _, _, _, regret_40_25 = batch_rollout_fn(net_params_40, rng_batch, 0.95, env_params_25, 100)\n",
        "_, _, _, _, regret_40_40 = batch_rollout_fn(net_params_40, rng_batch, 0.95, env_params_40, 100)\n",
        "\n",
        "regret_40_10.mean(), regret_40_25.mean(), regret_40_40.mean()"
      ]
    },
    {
      "cell_type": "code",
      "execution_count": 17,
      "metadata": {
        "colab": {
          "height": 313
        },
        "executionInfo": {
          "elapsed": 511,
          "status": "ok",
          "timestamp": 1660493467693,
          "user": {
            "displayName": "Robert Lange",
            "userId": "17173340079122882032"
          },
          "user_tz": -60
        },
        "id": "GftNhxQt_6jH",
        "outputId": "6e578759-059e-4b85-e71b-9f787ab45891"
      },
      "outputs": [
        {
          "data": {
            "text/plain": [
              "Text(0.5, 1.0, 'Wang et al. F2f) - Cumulative Regret')"
            ]
          },
          "execution_count": 17,
          "metadata": {},
          "output_type": "execute_result"
        },
        {
          "data": {
            "image/png": "[encoded data removed]",
            "text/plain": [
              "<Figure size 600x400 with 2 Axes>"
            ]
          },
          "metadata": {},
          "output_type": "display_data"
        }
      ],
      "source": [
        "results = jnp.array([[regret_10_10.mean(), regret_10_25.mean(), regret_10_40.mean()],\n",
        "                     [regret_25_10.mean(), regret_25_25.mean(), regret_25_40.mean()],\n",
        "                     [regret_40_10.mean(), regret_40_25.mean(), regret_40_40.mean()]])\n",
        "\n",
        "fig, ax = plt.subplots()\n",
        "img = ax.imshow(results, cmap='Reds')\n",
        "\n",
        "label_list = ['Easy', 'Medium', 'Hard']\n",
        "ax.set_xticks([0.0, 1.0, 2.0])\n",
        "ax.set_xticklabels(label_list)\n",
        "ax.set_xlabel('Test Condition')\n",
        "\n",
        "ax.set_yticks([0.0, 1.0, 2.0])\n",
        "ax.set_yticklabels(label_list)\n",
        "ax.set_ylabel('Train Condition')\n",
        "fig.colorbar(img)\n",
        "ax.set_title(\"Wang et al. F2f) - Cumulative Regret\")"
      ]
    },
    {
      "cell_type": "code",
      "execution_count": 17,
      "metadata": {
        "executionInfo": {
          "elapsed": 1,
          "status": "ok",
          "timestamp": 1660493467850,
          "user": {
            "displayName": "Robert Lange",
            "userId": "17173340079122882032"
          },
          "user_tz": -60
        },
        "id": "ubrmficFA4X-"
      },
      "outputs": [],
      "source": []
    }
  ],
  "metadata": {
    "colab": {
      "collapsed_sections": [],
      "name": "RL_Tutorial_Part2_Solutions.ipynb",
      "provenance": []
    },
    "kernelspec": {
      "display_name": "Python 3.8.9 64-bit",
      "language": "python",
      "name": "python3"
    },
    "language_info": {
      "name": "python",
      "version": "3.8.9"
    },
    "vscode": {
      "interpreter": {
        "hash": "31f2aee4e71d21fbe5cf8b01ff0e069b9275f58929596ceb00d14d90e3e16cd6"
      }
    }
  },
  "nbformat": 4,
  "nbformat_minor": 0
}
